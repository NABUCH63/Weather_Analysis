{
 "cells": [
  {
   "cell_type": "markdown",
   "metadata": {},
   "source": [
    "## Deliverable 3. Create a Travel Itinerary Map."
   ]
  },
  {
   "cell_type": "code",
   "execution_count": 1,
   "metadata": {},
   "outputs": [],
   "source": [
    "# Dependencies and Setup\n",
    "import pandas as pd\n",
    "import requests\n",
    "import gmaps\n",
    "from config import GoogleMaps_API_Key\n",
    "\n",
    "# Configure gmaps\n",
    "gmaps.configure(api_key=GoogleMaps_API_Key)"
   ]
  },
  {
   "cell_type": "code",
   "execution_count": 2,
   "metadata": {},
   "outputs": [
    {
     "data": {
      "text/html": [
       "<div>\n",
       "<style scoped>\n",
       "    .dataframe tbody tr th:only-of-type {\n",
       "        vertical-align: middle;\n",
       "    }\n",
       "\n",
       "    .dataframe tbody tr th {\n",
       "        vertical-align: top;\n",
       "    }\n",
       "\n",
       "    .dataframe thead th {\n",
       "        text-align: right;\n",
       "    }\n",
       "</style>\n",
       "<table border=\"1\" class=\"dataframe\">\n",
       "  <thead>\n",
       "    <tr style=\"text-align: right;\">\n",
       "      <th></th>\n",
       "      <th>index</th>\n",
       "      <th>City_ID</th>\n",
       "      <th>City</th>\n",
       "      <th>Country</th>\n",
       "      <th>Max_Temp_(F)</th>\n",
       "      <th>Wx_Desc</th>\n",
       "      <th>Lat</th>\n",
       "      <th>Lon</th>\n",
       "      <th>Hotel_Name</th>\n",
       "    </tr>\n",
       "  </thead>\n",
       "  <tbody>\n",
       "    <tr>\n",
       "      <th>0</th>\n",
       "      <td>0</td>\n",
       "      <td>0</td>\n",
       "      <td>Axim</td>\n",
       "      <td>GH</td>\n",
       "      <td>79.74</td>\n",
       "      <td>overcast clouds</td>\n",
       "      <td>4.8699</td>\n",
       "      <td>-2.2405</td>\n",
       "      <td>Axim Beach Resort And Spa</td>\n",
       "    </tr>\n",
       "    <tr>\n",
       "      <th>1</th>\n",
       "      <td>1</td>\n",
       "      <td>1</td>\n",
       "      <td>Hermanus</td>\n",
       "      <td>ZA</td>\n",
       "      <td>68.81</td>\n",
       "      <td>clear sky</td>\n",
       "      <td>-34.4187</td>\n",
       "      <td>19.2345</td>\n",
       "      <td>Misty Waves Boutique Hotel</td>\n",
       "    </tr>\n",
       "    <tr>\n",
       "      <th>2</th>\n",
       "      <td>2</td>\n",
       "      <td>2</td>\n",
       "      <td>Carnarvon</td>\n",
       "      <td>AU</td>\n",
       "      <td>73.47</td>\n",
       "      <td>few clouds</td>\n",
       "      <td>-24.8667</td>\n",
       "      <td>113.6333</td>\n",
       "      <td>Hospitality Carnarvon</td>\n",
       "    </tr>\n",
       "    <tr>\n",
       "      <th>3</th>\n",
       "      <td>3</td>\n",
       "      <td>3</td>\n",
       "      <td>Pringsewu</td>\n",
       "      <td>ID</td>\n",
       "      <td>73.15</td>\n",
       "      <td>overcast clouds</td>\n",
       "      <td>-5.3582</td>\n",
       "      <td>104.9744</td>\n",
       "      <td>Urban Style by Front One</td>\n",
       "    </tr>\n",
       "    <tr>\n",
       "      <th>4</th>\n",
       "      <td>4</td>\n",
       "      <td>4</td>\n",
       "      <td>Namatanai</td>\n",
       "      <td>PG</td>\n",
       "      <td>84.43</td>\n",
       "      <td>overcast clouds</td>\n",
       "      <td>-3.6667</td>\n",
       "      <td>152.4333</td>\n",
       "      <td>Seagulls Inn Namatani</td>\n",
       "    </tr>\n",
       "  </tbody>\n",
       "</table>\n",
       "</div>"
      ],
      "text/plain": [
       "   index  City_ID       City Country  Max_Temp_(F)          Wx_Desc      Lat  \\\n",
       "0      0        0       Axim      GH         79.74  overcast clouds   4.8699   \n",
       "1      1        1   Hermanus      ZA         68.81        clear sky -34.4187   \n",
       "2      2        2  Carnarvon      AU         73.47       few clouds -24.8667   \n",
       "3      3        3  Pringsewu      ID         73.15  overcast clouds  -5.3582   \n",
       "4      4        4  Namatanai      PG         84.43  overcast clouds  -3.6667   \n",
       "\n",
       "        Lon                  Hotel_Name  \n",
       "0   -2.2405   Axim Beach Resort And Spa  \n",
       "1   19.2345  Misty Waves Boutique Hotel  \n",
       "2  113.6333       Hospitality Carnarvon  \n",
       "3  104.9744    Urban Style by Front One  \n",
       "4  152.4333       Seagulls Inn Namatani  "
      ]
     },
     "execution_count": 2,
     "metadata": {},
     "output_type": "execute_result"
    }
   ],
   "source": [
    "# Read the Hotel_Search.csv into a DataFrame.\n",
    "input_hotel = \"../Vacation_Search/Hotel_Search_Results.csv\"\n",
    "hotel_df = pd.read_csv(input_hotel)\n",
    "hotel_df.reset_index(inplace=True)\n",
    "hotel_df.head(5)"
   ]
  },
  {
   "cell_type": "code",
   "execution_count": 3,
   "metadata": {},
   "outputs": [],
   "source": [
    "# Create info template for all cities in the output temp range\n",
    "info_box_template = \"\"\"\n",
    "<dl>\n",
    "<dt>Hotel_ID:</dt><dd>{index}</dd>\n",
    "<dt>Hotel:</dt><dd>{Hotel_Name}</dd>\n",
    "<dt>City:</dt><dd>{City}</dd>\n",
    "<dt>Country:</dt><dd>{Country}</dd>\n",
    "<dt>Temp:</dt><dd>{Max_Temp_(F)} °F</dd>\n",
    "<dt>Wx Desc:</dt><dd>{Wx_Desc}</dd>\n",
    "</dl>\n",
    "\"\"\"\n",
    "\n",
    "# Get the data from each row and add it to the formatting template and store the data in a list.\n",
    "hotel_info = [info_box_template.format(**row) for index, row in hotel_df.iterrows()]\n",
    "\n",
    "# Get the latitude and longitude from each row and store in a new DataFrame.\n",
    "locations = hotel_df[[\"Lat\", \"Lon\"]]"
   ]
  },
  {
   "cell_type": "code",
   "execution_count": 4,
   "metadata": {},
   "outputs": [
    {
     "data": {
      "application/vnd.jupyter.widget-view+json": {
       "model_id": "7501a0cd1cab4db990c0221fb508c22c",
       "version_major": 2,
       "version_minor": 0
      },
      "text/plain": [
       "Figure(layout=FigureLayout(height='420px'))"
      ]
     },
     "metadata": {},
     "output_type": "display_data"
    }
   ],
   "source": [
    "# Add a marker layer for each city to the map.\n",
    "temp = hotel_df[\"Max_Temp_(F)\"]\n",
    "fig = gmaps.figure(center=(30.0, 31.0), zoom_level=1)\n",
    "heat_layer = gmaps.heatmap_layer(locations, weights=temp, dissipating=False, max_intensity=100, point_radius=8)\n",
    "marker_layer = gmaps.marker_layer(locations, info_box_content=hotel_info)\n",
    "# fig.add_layer(heat_layer)\n",
    "fig.add_layer(marker_layer)\n",
    "\n",
    "# Display the figure\n",
    "fig\n"
   ]
  },
  {
   "cell_type": "code",
   "execution_count": 6,
   "metadata": {},
   "outputs": [],
   "source": [
    "# From the map above pick 4 cities and create a vacation itinerary route to travel between the four cities. \n",
    "# Create DataFrames for each city by filtering the 'vacation_df' using the iloc method, based on the Hotel_ID. \n",
    "\n",
    "vacation_start = pd.DataFrame(hotel_df.iloc[225]).T\n",
    "vacation_end = pd.DataFrame(hotel_df.iloc[225]).T\n",
    "vacation_stop1 = pd.DataFrame(hotel_df.iloc[133]).T\n",
    "vacation_stop2 = pd.DataFrame(hotel_df.loc[107]).T\n",
    "vacation_stop3 = pd.DataFrame(hotel_df.iloc[204]).T\n",
    "\n",
    "# concat above destinations into a single dataframe\n",
    "vacation_df = pd.concat([vacation_start, vacation_end, vacation_stop1, vacation_stop2, vacation_stop3])\n",
    "vacation_df = pd.DataFrame(vacation_df)\n",
    "vacation_df.to_csv(\"Destinations_Output.csv\", index_label=\"Hotel_ID\")\n",
    "\n",
    "# 3a. Get the data from each row and add it to the formatting template and store the data in a list.\n",
    "hotel_info = [info_box_template.format(**row) for index, row in vacation_df.iterrows()]\n",
    "\n",
    "# get locations of selected destinations\n",
    "locations2 = vacation_df[[\"Lat\", \"Lon\"]]\n"
   ]
  },
  {
   "cell_type": "code",
   "execution_count": 9,
   "metadata": {},
   "outputs": [],
   "source": [
    "# 6. Get the latitude-longitude pairs as tuples from each city DataFrame using the to_numpy function and list indexing.\n",
    "start = ((float(vacation_start[[\"Lat\"]].to_numpy()), float(vacation_start[[\"Lon\"]].to_numpy())))\n",
    "end = ((float(vacation_end[[\"Lat\"]].to_numpy()), float(vacation_end[[\"Lon\"]].to_numpy())))\n",
    "stop1 = ((float(vacation_stop1[[\"Lat\"]].to_numpy()), float(vacation_stop1[[\"Lon\"]].to_numpy())))\n",
    "stop2 = ((float(vacation_stop2[[\"Lat\"]].to_numpy()), float(vacation_stop2[[\"Lon\"]].to_numpy())))\n",
    "stop3 = ((float(vacation_stop3[[\"Lat\"]].to_numpy()), float(vacation_stop3[[\"Lon\"]].to_numpy())))\n"
   ]
  },
  {
   "cell_type": "code",
   "execution_count": 20,
   "metadata": {
    "scrolled": true
   },
   "outputs": [
    {
     "data": {
      "application/vnd.jupyter.widget-view+json": {
       "model_id": "aee24826e90c4df989dd4211c1ef8319",
       "version_major": 2,
       "version_minor": 0
      },
      "text/plain": [
       "Figure(layout=FigureLayout(height='420px'))"
      ]
     },
     "metadata": {},
     "output_type": "display_data"
    }
   ],
   "source": [
    "# 7. Create a direction layer map using the start and end latitude-longitude pairs,\n",
    "# and stop1, stop2, and stop3 as the waypoints. The travel_mode should be \"DRIVING\", \"BICYCLING\", or \"WALKING\".\n",
    "fig2 = gmaps.figure(center=(40.0, -95), zoom_level=4.5)\n",
    "directions = gmaps.directions_layer(start, end, waypoints=[stop1, stop2, stop3], travel_mode=\"DRIVING\", show_markers=True)\n",
    "marker = gmaps.marker_layer(locations2, info_box_content=hotel_info)\n",
    "fig2.add_layer(directions)\n",
    "# fig2.add_layer(marker)\n",
    "fig2"
   ]
  },
  {
   "cell_type": "code",
   "execution_count": null,
   "metadata": {},
   "outputs": [],
   "source": []
  }
 ],
 "metadata": {
  "kernelspec": {
   "display_name": "PythonData",
   "language": "python",
   "name": "pythondata"
  },
  "language_info": {
   "codemirror_mode": {
    "name": "ipython",
    "version": 3
   },
   "file_extension": ".py",
   "mimetype": "text/x-python",
   "name": "python",
   "nbconvert_exporter": "python",
   "pygments_lexer": "ipython3",
   "version": "3.9.7"
  },
  "latex_envs": {
   "LaTeX_envs_menu_present": true,
   "autoclose": false,
   "autocomplete": true,
   "bibliofile": "biblio.bib",
   "cite_by": "apalike",
   "current_citInitial": 1,
   "eqLabelWithNumbers": true,
   "eqNumInitial": 1,
   "hotkeys": {
    "equation": "Ctrl-E",
    "itemize": "Ctrl-I"
   },
   "labels_anchors": false,
   "latex_user_defs": false,
   "report_style_numbering": false,
   "user_envs_cfg": false
  }
 },
 "nbformat": 4,
 "nbformat_minor": 2
}
